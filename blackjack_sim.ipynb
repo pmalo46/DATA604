{
 "cells": [
  {
   "cell_type": "markdown",
   "metadata": {},
   "source": [
    "## Discussion 1\n",
    "\n",
    "### Creating a blackjack simulation"
   ]
  },
  {
   "cell_type": "code",
   "execution_count": 238,
   "metadata": {},
   "outputs": [],
   "source": [
    "import numpy as np\n",
    "import matplotlib.pyplot as plt\n",
    "import random\n",
    "%matplotlib inline"
   ]
  },
  {
   "cell_type": "code",
   "execution_count": 9,
   "metadata": {},
   "outputs": [
    {
     "data": {
      "text/plain": [
       "52"
      ]
     },
     "execution_count": 9,
     "metadata": {},
     "output_type": "execute_result"
    }
   ],
   "source": [
    "#simulate the deck of cards\n",
    "deck = [2, 2, 2, 2, 3, 3, 3, 3, 4, 4, 4, 4, 5, 5, 5, 5, 6, 6, 6, 6, 7, 7, 7, 7, 8, 8, 8, 8, 9, 9, 9, 9, 10, 10, 10, 10, 10, 10, 10, 10, 10, 10, 10, 10, 10, 10, 10, 10, 11, 11, 11, 11]\n",
    "len(deck)"
   ]
  },
  {
   "cell_type": "code",
   "execution_count": 260,
   "metadata": {},
   "outputs": [],
   "source": [
    "def deal():\n",
    "    hand = random.sample(deck, 2)\n",
    "    print(hand, sum(hand))\n",
    "    while(sum(hand) < 17):\n",
    "        hit = random.choice(deck)\n",
    "        hand.append(hit)\n",
    "        print(hand, sum(hand))\n",
    "    if sum(hand) > 21:\n",
    "        return \"BUST\" \n",
    "    else:\n",
    "        return sum(hand)\n",
    "\n",
    "# refactor function to create better output for visualizing results of multiple simulations\n",
    "def deal_simple():\n",
    "    hand = random.sample(deck, 2)\n",
    "    while(sum(hand) < 17):\n",
    "        hit = random.choice(deck)\n",
    "        hand.append(hit)\n",
    "    return sum(hand)\n",
    "    \n"
   ]
  },
  {
   "cell_type": "code",
   "execution_count": 294,
   "metadata": {},
   "outputs": [
    {
     "name": "stdout",
     "output_type": "stream",
     "text": [
      "[7, 2] 9\n",
      "[7, 2, 2] 11\n",
      "[7, 2, 2, 2] 13\n",
      "[7, 2, 2, 2, 11] 24\n"
     ]
    },
    {
     "data": {
      "text/plain": [
       "'BUST'"
      ]
     },
     "execution_count": 294,
     "metadata": {},
     "output_type": "execute_result"
    }
   ],
   "source": [
    "deal()"
   ]
  },
  {
   "cell_type": "code",
   "execution_count": 269,
   "metadata": {},
   "outputs": [
    {
     "data": {
      "text/plain": [
       "20"
      ]
     },
     "execution_count": 269,
     "metadata": {},
     "output_type": "execute_result"
    }
   ],
   "source": [
    "deal_simple()"
   ]
  },
  {
   "cell_type": "code",
   "execution_count": 298,
   "metadata": {
    "scrolled": true
   },
   "outputs": [
    {
     "data": {
      "text/plain": [
       "(array([129., 116., 125., 174., 119.,  91.,  66.,  69.,  65.,  46.]),\n",
       " array([17., 18., 19., 20., 21., 22., 23., 24., 25., 26., 27.]),\n",
       " <a list of 10 Patch objects>)"
      ]
     },
     "execution_count": 298,
     "metadata": {},
     "output_type": "execute_result"
    },
    {
     "data": {
      "image/png": "[encoded data removed]",
      "text/plain": [
       "<Figure size 432x288 with 1 Axes>"
      ]
     },
     "metadata": {
      "needs_background": "light"
     },
     "output_type": "display_data"
    }
   ],
   "source": [
    "#simualte 1000 games\n",
    "results = []\n",
    "\n",
    "for i in range(1000):\n",
    "    res = deal_simple()\n",
    "    results.append(res)\n",
    "    \n",
    "plt.hist(results)"
   ]
  },
  {
   "cell_type": "code",
   "execution_count": null,
   "metadata": {},
   "outputs": [],
   "source": []
  }
 ],
 "metadata": {
  "kernelspec": {
   "display_name": "Python 3",
   "language": "python",
   "name": "python3"
  },
  "language_info": {
   "codemirror_mode": {
    "name": "ipython",
    "version": 3
   },
   "file_extension": ".py",
   "mimetype": "text/x-python",
   "name": "python",
   "nbconvert_exporter": "python",
   "pygments_lexer": "ipython3",
   "version": "3.7.1"
  }
 },
 "nbformat": 4,
 "nbformat_minor": 2
}
